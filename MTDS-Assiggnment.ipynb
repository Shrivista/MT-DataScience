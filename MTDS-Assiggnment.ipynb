{
 "cells": [
  {
   "cell_type": "markdown",
   "id": "3df85e3e-b3ea-420a-9b4d-f7140e600d44",
   "metadata": {},
   "source": [
    "#### 1. Celsius to Fahrenheit"
   ]
  },
  {
   "cell_type": "code",
   "execution_count": 11,
   "id": "89bfd7be-0695-4dc9-8cea-2498ab00174a",
   "metadata": {},
   "outputs": [
    {
     "name": "stdin",
     "output_type": "stream",
     "text": [
      "Enter Celcius temperature: 34\n"
     ]
    },
    {
     "name": "stdout",
     "output_type": "stream",
     "text": [
      "Fahrenheit temperature of 34° Celsius is: 93.2\n"
     ]
    }
   ],
   "source": [
    "tempCelc = int(input(\"Enter Celcius temperature:\"))\n",
    "tempFrhn = (tempCelc*1.8) + 32\n",
    "print(\"Fahrenheit temperature of %s° Celsius is: %s\" % (tempCelc, tempFrhn))"
   ]
  },
  {
   "cell_type": "markdown",
   "id": "abd8871e-01d0-4853-9181-4a3b76e06fbd",
   "metadata": {},
   "source": [
    "#### 2. Area and Perimeter of Triangle"
   ]
  },
  {
   "cell_type": "code",
   "execution_count": 19,
   "id": "a8110523-211b-4f9d-910d-7e5e5fa2c4e1",
   "metadata": {},
   "outputs": [
    {
     "name": "stdin",
     "output_type": "stream",
     "text": [
      "Enter Raduis of Triangle: 10\n"
     ]
    },
    {
     "name": "stdout",
     "output_type": "stream",
     "text": [
      "If Radius of a Triangle is 10, then its Area will be 314 and it perimeter will be 62.80\n"
     ]
    }
   ],
   "source": [
    "trRadius = int(input(\"Enter Raduis of Triangle:\"))\n",
    "trArea = 3.14* (trRadius**2)\n",
    "trPerimeter = 3.14 * trRadius * 2\n",
    "print(\"If Radius of a Triangle is %i, then its Area will be %i and its perimeter will be %.2f\" % (trRadius, trArea,trPerimeter))"
   ]
  },
  {
   "cell_type": "markdown",
   "id": "cc160262-db58-4dd1-80c2-b245161ea4fe",
   "metadata": {},
   "source": [
    "#### 3. Percentage Calculator"
   ]
  },
  {
   "cell_type": "code",
   "execution_count": 26,
   "id": "f0e24c76-8315-44dd-bd78-1cc1fdd9d853",
   "metadata": {},
   "outputs": [
    {
     "name": "stdin",
     "output_type": "stream",
     "text": [
      "Enter the amount: 1000\n",
      "Enter rate of interest: 9.77\n"
     ]
    },
    {
     "name": "stdout",
     "output_type": "stream",
     "text": [
      "Total amount after adding interest is%.2f: 1097.7\n"
     ]
    }
   ],
   "source": [
    "amt = int(input(\"Enter the amount:\"))\n",
    "InterestRate = float(input(\"Enter rate of interest:\"))\n",
    "amtTotal = float(amt + (InterestRate*(amt/100)))\n",
    "print(\"Total amount after adding interest is%.2f:\", amtTotal)"
   ]
  },
  {
   "cell_type": "markdown",
   "id": "e3f34d37-f3ed-4875-babe-40cd9398e8a9",
   "metadata": {},
   "source": [
    "#### 4. Coversion of Meters into Centimeters, Inches, and Yards.\n"
   ]
  },
  {
   "cell_type": "code",
   "execution_count": 28,
   "id": "b5c84725-1506-41c4-98bf-98cd13a5b4a3",
   "metadata": {},
   "outputs": [
    {
     "name": "stdin",
     "output_type": "stream",
     "text": [
      "Enter value in Meters: 100\n"
     ]
    },
    {
     "name": "stdout",
     "output_type": "stream",
     "text": [
      "Distance in Centimeter is: 10000\n",
      "Distance in Inces is: 3937.01\n",
      "Distance in Yards is: 109.36\n"
     ]
    }
   ],
   "source": [
    "valMeter = int(input(\"Enter value in Meters:\"))\n",
    "valCentiMeter = valMeter * 100\n",
    "valInces = float(valCentiMeter / 2.54)\n",
    "valYards = float(valMeter * 1.09361)\n",
    "print(\"Distance in Centimeter is: %i\" % (valCentiMeter))\n",
    "print(\"Distance in Inces is: %.2f\" % (valInces))\n",
    "print(\"Distance in Yards is: %.2f\" % (valYards))"
   ]
  },
  {
   "cell_type": "markdown",
   "id": "e10f89af-5c89-4c38-9160-44f477e9313f",
   "metadata": {},
   "source": [
    "#### 5. Profit and Loss"
   ]
  },
  {
   "cell_type": "code",
   "execution_count": 8,
   "id": "f9aeb1ca-cf08-4005-bb2c-796cdfbf12a1",
   "metadata": {},
   "outputs": [
    {
     "name": "stdin",
     "output_type": "stream",
     "text": [
      "Enter actual cost: 40\n",
      "Enter selling cost: 35\n"
     ]
    },
    {
     "name": "stdout",
     "output_type": "stream",
     "text": [
      "You have loss of: 50\n"
     ]
    }
   ],
   "source": [
    "valActualCost = int(input(\"Enter actual cost:\"))\n",
    "valSellingCost = int(input(\"Enter selling cost:\"))\n",
    "valUnitsSold = 10\n",
    "valPurchaseAmount = valActualCost * valUnitsSold\n",
    "valSellAmount = valSellingCost * valUnitsSold\n",
    "\n",
    "if valPurchaseAmount<valSellAmount:\n",
    "    valProfit = valSellAmount - valPurchaseAmount\n",
    "    print(\"You have earned profit of %i:\" %(valProfit))\n",
    "elif valPurchaseAmount>valSellAmount: \n",
    "    valProfit = valPurchaseAmount - valSellAmount\n",
    "    print(\"You have loss of: %i\" %(valProfit))\n",
    "else:\n",
    "    print(\"You have no profit and no loss\")"
   ]
  },
  {
   "cell_type": "markdown",
   "id": "10273843-a1b5-468e-a6bb-f3a811a1a07e",
   "metadata": {},
   "source": [
    "#### 6. Grass Salary Calculation"
   ]
  },
  {
   "cell_type": "code",
   "execution_count": 16,
   "id": "17769bb0-6e2d-41fa-a273-cd3065bda9e3",
   "metadata": {},
   "outputs": [
    {
     "name": "stdin",
     "output_type": "stream",
     "text": [
      "Enter Basic Pay: 24000\n"
     ]
    },
    {
     "name": "stdout",
     "output_type": "stream",
     "text": [
      "Grass salary is: 46800.0\n"
     ]
    }
   ],
   "source": [
    "valBasic = int(input(\"Enter Basic Pay:\"))\n",
    "valDARate = float(0.75)\n",
    "valHRARate = float(0.20)\n",
    "amtGrossPay = float(0.0)\n",
    "\n",
    "if  valBasic<10000:\n",
    "    amtGrossPay = valBasic + (valDARate*valBasic)\n",
    "elif  valBasic>=10000 and valBasic<20000:\n",
    "    amtGrossPay = valBasic + ((valDARate+(valHRARate/2))*valBasic)\n",
    "else:\n",
    "    amtGrossPay = valBasic + ((valDARate+valHRARate)*valBasic)\n",
    "    \n",
    "print(\"Grass salary is:\",amtGrossPay)"
   ]
  },
  {
   "cell_type": "markdown",
   "id": "a2b08700-39f3-4921-bd66-c380c9ea80b7",
   "metadata": {},
   "source": [
    "#### 7. Factorial of a number"
   ]
  },
  {
   "cell_type": "code",
   "execution_count": 32,
   "id": "c01893d2-bc0f-4244-8e2b-d1e30e635d40",
   "metadata": {},
   "outputs": [
    {
     "name": "stdin",
     "output_type": "stream",
     "text": [
      "Enter any number: 7\n"
     ]
    },
    {
     "name": "stdout",
     "output_type": "stream",
     "text": [
      "Factorial of 0 is 5040\n"
     ]
    }
   ],
   "source": [
    "val = int(input(\"Enter any number:\"))\n",
    "valFactorial = int(1)\n",
    "\n",
    "while val>0:\n",
    "    valFactorial = val*valFactorial\n",
    "    val -= 1\n",
    "    \n",
    "print(\"Factorial of %i is %i\" %(val,valFactorial))"
   ]
  },
  {
   "cell_type": "markdown",
   "id": "96cd97b3-f9bc-4ef4-b476-9c66a2ba62c7",
   "metadata": {},
   "source": [
    "#### 8. Addition of numbers between range\n"
   ]
  },
  {
   "cell_type": "code",
   "execution_count": 35,
   "id": "6949ac9a-dbe6-4539-8aa4-2852f5341a44",
   "metadata": {},
   "outputs": [
    {
     "name": "stdin",
     "output_type": "stream",
     "text": [
      "Enter first number: 2\n",
      "Enter second number: 5\n"
     ]
    },
    {
     "name": "stdout",
     "output_type": "stream",
     "text": [
      "Sum of numbers between 2 and 5 is:14\n"
     ]
    }
   ],
   "source": [
    "num1 = int(input(\"Enter first number:\"))\n",
    "num2 = int(input(\"Enter second number:\"))\n",
    "valsum = int(0)\n",
    "\n",
    "for i in range(num1,num2+1):\n",
    "    valsum = valsum + i\n",
    "\n",
    "print(\"Sum of numbers between %i and %i is:%i\" %(num1,num2,valsum))"
   ]
  },
  {
   "cell_type": "markdown",
   "id": "b9bb4c68-8752-49e5-9fcb-a7e8a5426f91",
   "metadata": {},
   "source": [
    "#### 9. List of Odd and Even numbers\n"
   ]
  },
  {
   "cell_type": "code",
   "execution_count": 40,
   "id": "0353ac93-8461-4f27-a256-cf076098dd4b",
   "metadata": {},
   "outputs": [
    {
     "name": "stdout",
     "output_type": "stream",
     "text": [
      "[35, 41, 43, 71, 55]\n",
      "[56, 2, 48, 32, 56, 68]\n"
     ]
    }
   ],
   "source": [
    "num = (56,2,35,41,43,48,32,56,71,55,68)\n",
    "listOdd = []\n",
    "listEven = []\n",
    "\n",
    "for i in num:\n",
    "    if i%2==0:\n",
    "        listEven.append(i)\n",
    "    else:\n",
    "        listOdd.append(i)\n",
    "\n",
    "print(listOdd)\n",
    "print(listEven)\n",
    "\n",
    "\n"
   ]
  },
  {
   "cell_type": "markdown",
   "id": "7176173a-4ea4-44c3-9c90-90c68d7211c9",
   "metadata": {},
   "source": [
    "#### 10. Find Odd/Even using function "
   ]
  },
  {
   "cell_type": "code",
   "execution_count": 52,
   "id": "876c962b-5a18-410d-8c1c-4f63848c677e",
   "metadata": {},
   "outputs": [
    {
     "name": "stdin",
     "output_type": "stream",
     "text": [
      "Enter any number: 7\n"
     ]
    },
    {
     "name": "stdout",
     "output_type": "stream",
     "text": [
      "The number is Odd\n"
     ]
    }
   ],
   "source": [
    "num1 = int(input(\"Enter any number:\"))\n",
    "\n",
    "def FindOddEven(num):\n",
    "    if(num==0):\n",
    "        return \"Neither Odd nor Even\"         \n",
    "    elif (num%2==1):\n",
    "        return \"Odd\"\n",
    "    else:\n",
    "        return \"Even\"\n",
    "\n",
    "print(\"The number is\", FindOddEven(num1))\n",
    "    "
   ]
  },
  {
   "cell_type": "markdown",
   "id": "204fa0a7-42bd-4f31-a8ce-f90e795bf43a",
   "metadata": {},
   "source": [
    "#### 11. Maths functions"
   ]
  },
  {
   "cell_type": "code",
   "execution_count": 56,
   "id": "0a8f5cd1-2d12-42a8-b351-8573c6ccacc7",
   "metadata": {},
   "outputs": [
    {
     "name": "stdin",
     "output_type": "stream",
     "text": [
      "Enter any number: 5\n"
     ]
    },
    {
     "name": "stdout",
     "output_type": "stream",
     "text": [
      "2.23606797749979\n",
      "-0.9589242746631385\n",
      "-3.380515006246586\n",
      "1.6094379124341003\n",
      "120.0\n"
     ]
    }
   ],
   "source": [
    "import math\n",
    "\n",
    "num1 = int(input(\"Enter any number:\"))\n",
    "\n",
    "valSqrt = float(math.sqrt(num1))\n",
    "valSin = float(math.sin(num1)) \n",
    "valTan = float(math.tan(num1))\n",
    "valLog = float(math.log(num1))\n",
    "valFact = float(math.factorial(num1))\n",
    "\n",
    "print(valSqrt)\n",
    "print(valSin)\n",
    "print(valTan)\n",
    "print(valLog)\n",
    "print(valFact)\n"
   ]
  },
  {
   "cell_type": "markdown",
   "id": "02406b82-0493-402e-883e-6294582631ad",
   "metadata": {},
   "source": [
    "#### 12. Class for Rectangle"
   ]
  },
  {
   "cell_type": "code",
   "execution_count": 67,
   "id": "8390a917-8fcb-4a1f-8a29-de0ead276547",
   "metadata": {},
   "outputs": [],
   "source": [
    "class Rectangle:\n",
    "    def __init__(self, l, w):\n",
    "        self.length = l\n",
    "        self.width = w\n",
    "\n",
    "    def calcarea(self):\n",
    "        valarea = self.length * self.width\n",
    "        return valarea\n",
    "        "
   ]
  },
  {
   "cell_type": "code",
   "execution_count": 69,
   "id": "29dd23c8-a6b0-4d0c-964f-b05f15b05c4e",
   "metadata": {},
   "outputs": [
    {
     "name": "stdout",
     "output_type": "stream",
     "text": [
      "Area of Rectanle is: 1360\n"
     ]
    }
   ],
   "source": [
    "obj1 = Rectangle(40,34)\n",
    "print(\"Area of Rectanle is:\", obj1.calcarea())"
   ]
  },
  {
   "cell_type": "code",
   "execution_count": null,
   "id": "93329b1d-ca1f-4dc8-8427-9f4edbed96d8",
   "metadata": {},
   "outputs": [],
   "source": []
  }
 ],
 "metadata": {
  "kernelspec": {
   "display_name": "Python 3 (ipykernel)",
   "language": "python",
   "name": "python3"
  },
  "language_info": {
   "codemirror_mode": {
    "name": "ipython",
    "version": 3
   },
   "file_extension": ".py",
   "mimetype": "text/x-python",
   "name": "python",
   "nbconvert_exporter": "python",
   "pygments_lexer": "ipython3",
   "version": "3.12.2"
  }
 },
 "nbformat": 4,
 "nbformat_minor": 5
}
